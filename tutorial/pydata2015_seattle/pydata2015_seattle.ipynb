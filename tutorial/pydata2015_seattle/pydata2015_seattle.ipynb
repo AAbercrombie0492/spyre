{
 "cells": [
  {
   "cell_type": "markdown",
   "metadata": {},
   "source": [
    "# twitter: @adamhajari"
   ]
  },
  {
   "cell_type": "markdown",
   "metadata": {},
   "source": [
    "# github: github.com/adamhajari/spyre"
   ]
  },
  {
   "cell_type": "markdown",
   "metadata": {},
   "source": [
    "# this notebook:  http://bit.ly/pydata2015_spyre\n",
    "\n",
    "\n",
    "## Before we start\n",
    "make sure you have the latest version of spyre\n",
    "````\n",
    "pip install --upgrade dataspyre\n",
    "````\n",
    "**there have been recent changes to spyre, so if you installed more than a day ago, go ahead and upgrade**\n",
    "\n",
    "\n",
    "## Who Am I?\n",
    "```\n",
    "Adam Hajari\n",
    "Data Scientist on the Next Big Sound team at Pandora\n",
    "adam@nextbigsound.com\n",
    "@adamhajari\n",
    "```"
   ]
  },
  {
   "cell_type": "markdown",
   "metadata": {
    "slideshow": {
     "slide_type": "slide"
    }
   },
   "source": [
    "# Simple Interactive Web Applications with Spyre"
   ]
  },
  {
   "cell_type": "markdown",
   "metadata": {},
   "source": [
    "Spyre is a web application framework for turning static data tables and plots into interactive web apps.  Spyre was motivated by <a href=\"http://shiny.rstudio.com/\">Shiny</a>, a similar framework for R created by the developers of Rstudio."
   ]
  },
  {
   "cell_type": "markdown",
   "metadata": {},
   "source": [
    "## Where does Spyre Live?"
   ]
  },
  {
   "cell_type": "markdown",
   "metadata": {},
   "source": [
    "GitHub: <a href='https://github.com/adamhajari/spyre'>github.com/adamhajari/spyre</a>\n",
    "\n",
    "Live example of a spyre app: \n",
    " - <a href='http://adamhajari.com'>adamhajari.com</a>\n",
    " - <a href='http://dataspyre.herokuapp.com'>dataspyre.herokuapp.com</a>\n",
    " - <a href='https://spyre-gallery.herokuapp.com'>spyre-gallery.herokuapp.com</a>"
   ]
  },
  {
   "cell_type": "markdown",
   "metadata": {},
   "source": [
    "## Installing Spyre"
   ]
  },
  {
   "cell_type": "markdown",
   "metadata": {},
   "source": [
    "Spyre depends on:\n",
    " - cherrypy (server and backend)\n",
    " - jinja2 (html and javascript templating)\n",
    " - matplotlib (displaying plots and images)\n",
    " - pandas (for working within tabular data)\n",
    " \n",
    "Assuming you don't have any issues with the above dependencies, you can install spyre via pip:\n",
    "```bash\n",
    "$ pip install dataspyre\n",
    "```"
   ]
  },
  {
   "cell_type": "markdown",
   "metadata": {},
   "source": [
    "## Launching a Spyre App"
   ]
  },
  {
   "cell_type": "markdown",
   "metadata": {},
   "source": [
    "Spyre's server module has a App class that every Spyre app will needs to inherit. Use the app's launch() method to deploy your app."
   ]
  },
  {
   "cell_type": "code",
   "execution_count": 2,
   "metadata": {
    "collapsed": false
   },
   "outputs": [],
   "source": [
    "from spyre import server\n",
    "\n",
    "class SimpleApp(server.App):\n",
    "    pass\n",
    "\n",
    "app = SimpleApp()\n",
    "# app.launch()  # launching from ipython notebook is not recommended"
   ]
  },
  {
   "cell_type": "markdown",
   "metadata": {},
   "source": [
    "If you put the above code in a file called simple_app.py you can launch the app from the command line with\n",
    "```\n",
    "$ python simple_app.py\n",
    "```\n",
    "Make sure you uncomment the last line first."
   ]
  },
  {
   "cell_type": "markdown",
   "metadata": {},
   "source": [
    "## A Very Simple Example"
   ]
  },
  {
   "cell_type": "markdown",
   "metadata": {},
   "source": [
    "There are two variables of the App class that need to be overridden to create the UI for a Spyre app: inputs and outputs (a third optional type called controls that we'll get to later). All three variables are lists of dictionaries which specify each component's properties. For instance, to create a text box input, overide the App's inputs variable:"
   ]
  },
  {
   "cell_type": "code",
   "execution_count": 2,
   "metadata": {
    "collapsed": false
   },
   "outputs": [],
   "source": [
    "from spyre import server\n",
    "\n",
    "class SimpleApp(server.App):\n",
    "    inputs = [{ \"type\":\"text\",\n",
    "                \"key\":\"words\",\n",
    "                \"label\": \"write here\",\n",
    "                \"value\":\"hello world\"}]\n",
    "\n",
    "app = SimpleApp()\n",
    "# app.launch()"
   ]
  },
  {
   "cell_type": "markdown",
   "metadata": {},
   "source": [
    "An input variable's value can be used by any of the app's outputs by referencing the variable_name can. The action_id is a reference to either an output_id of an output element or a control_id of a control element. The output referenced by the above input can be defined by overriding the App's outputs variable:"
   ]
  },
  {
   "cell_type": "code",
   "execution_count": 4,
   "metadata": {
    "collapsed": false
   },
   "outputs": [],
   "source": [
    "from spyre import server\n",
    "\n",
    "class SimpleApp(server.App):\n",
    "    inputs = [{ \"type\":\"text\",\n",
    "                \"key\":\"words\",\n",
    "                \"label\": \"write here\",\n",
    "                \"value\":\"hello world\"}]\n",
    "    \n",
    "    outputs = [{\"type\":\"html\",\n",
    "                \"id\":\"some_html\"}]\n",
    "\n",
    "app = SimpleApp()\n",
    "app.launch()"
   ]
  },
  {
   "cell_type": "markdown",
   "metadata": {},
   "source": [
    "Now we have both an input and an output, though the output is currently just a message telling us we need to override the getHTML method in order to generate an actual output. Let's do that now."
   ]
  },
  {
   "cell_type": "code",
   "execution_count": 10,
   "metadata": {
    "collapsed": false
   },
   "outputs": [],
   "source": [
    "from spyre import server\n",
    "\n",
    "class SimpleApp(server.App):\n",
    "    title = \"Simple App\"\n",
    "    \n",
    "    inputs = [{ \"type\":\"text\",\n",
    "                \"key\":\"words\",\n",
    "                \"label\": \"write here\",\n",
    "                \"value\":\"hello world\"}]\n",
    "    \n",
    "    outputs = [{\"type\":\"html\",\n",
    "                \"id\":\"some_html\"}]\n",
    "\n",
    "    def getHTML(self, params):\n",
    "        words = params['words']\n",
    "        return \"here are the words you wrote: <b>%s</b>\"%words\n",
    "\n",
    "app = SimpleApp()\n",
    "app.launch()"
   ]
  },
  {
   "cell_type": "markdown",
   "metadata": {},
   "source": [
    "Great. We've got inputs *and* outputs, but we're not quite finished. As is the content of our output is static. That's because the output doesn't know when it needs to get updated. We can fix this in one of two ways:\n",
    " 1. We can add a button to our app and tell our output to update whenever the button is pressed.\n",
    " 2. We can add an `action_id` to our input that references the output that we want refreshed when the input value changes.\n",
    "\n",
    "Let's see what the first approach looks like."
   ]
  },
  {
   "cell_type": "code",
   "execution_count": 13,
   "metadata": {
    "collapsed": true
   },
   "outputs": [],
   "source": [
    "from spyre import server\n",
    "\n",
    "class SimpleApp(server.App):\n",
    "    title = \"Simple App\"\n",
    "    \n",
    "    inputs = [{ \"type\":\"text\",\n",
    "                \"key\":\"words\",\n",
    "                \"label\": \"write here\",\n",
    "                \"value\":\"hello world\"}]\n",
    "    \n",
    "    outputs = [{\"type\":\"html\",\n",
    "                \"id\":\"some_html\",\n",
    "                \"control_id\":\"control_1\"}]\n",
    "    \n",
    "    controls = [{\"type\":\"button\",\n",
    "                 \"label\":\"press to update\",\n",
    "                 \"id\":\"control_1\"}]\n",
    "\n",
    "    def getHTML(self, params):\n",
    "        words = params['words']\n",
    "        return \"here are the words you wrote: <b>%s</b>\"%words\n",
    "\n",
    "app = SimpleApp()\n",
    "app.launch()"
   ]
  },
  {
   "cell_type": "markdown",
   "metadata": {},
   "source": [
    "Our app now has a button with id \"control_1\", and our output references our control's id, so that when we press the button we update the output with the most current input values. \n",
    "\n",
    "<img src=\"input_output_control.png\">\n",
    "\n",
    "Is a button a little overkill for this simple app? Yeah, probably. Let's get rid of it and have the output update whenever just by changing the value in the text box. To do this we'll add an `action_id` attribute to our input dictionary that references the output's id."
   ]
  },
  {
   "cell_type": "code",
   "execution_count": null,
   "metadata": {
    "collapsed": true
   },
   "outputs": [],
   "source": [
    "from spyre import server\n",
    "\n",
    "class SimpleApp(server.App):\n",
    "    title = \"Simple App\"\n",
    "    \n",
    "    inputs = [{ \"type\":\"text\",\n",
    "                \"key\":\"words\",\n",
    "                \"label\": \"write here\",\n",
    "                \"value\":\"look ma, no buttons\",\n",
    "                \"action_id\":\"some_html\"}]\n",
    "    \n",
    "    outputs = [{\"type\":\"html\",\n",
    "                \"id\":\"some_html\"}]\n",
    "    \n",
    "    def getHTML(self, params):\n",
    "        words = params['words']\n",
    "        return \"here are the words you wrote: <b>%s</b>\"%words\n",
    "\n",
    "app = SimpleApp()\n",
    "app.launch()"
   ]
  },
  {
   "cell_type": "markdown",
   "metadata": {},
   "source": [
    "Now the output gets updated with a change to the input.\n",
    "\n",
    "<img src=\"no_control.png\">"
   ]
  },
  {
   "cell_type": "markdown",
   "metadata": {},
   "source": [
    "## Another Example"
   ]
  },
  {
   "cell_type": "markdown",
   "metadata": {},
   "source": [
    "Let's suppose you've written a function to grab historical stock price data from the web. Your function returns a pandas dataframe."
   ]
  },
  {
   "cell_type": "code",
   "execution_count": 5,
   "metadata": {
    "collapsed": false
   },
   "outputs": [
    {
     "name": "stdout",
     "output_type": "stream",
     "text": [
      "Populating the interactive namespace from numpy and matplotlib\n"
     ]
    },
    {
     "data": {
      "text/html": [
       "<div>\n",
       "<table border=\"1\" class=\"dataframe\">\n",
       "  <thead>\n",
       "    <tr style=\"text-align: right;\">\n",
       "      <th></th>\n",
       "      <th>Date</th>\n",
       "      <th>close</th>\n",
       "      <th>high</th>\n",
       "      <th>low</th>\n",
       "      <th>open</th>\n",
       "    </tr>\n",
       "  </thead>\n",
       "  <tbody>\n",
       "    <tr>\n",
       "      <th>0</th>\n",
       "      <td>2015-04-27</td>\n",
       "      <td>48.03</td>\n",
       "      <td>48.13</td>\n",
       "      <td>47.22</td>\n",
       "      <td>47.23</td>\n",
       "    </tr>\n",
       "    <tr>\n",
       "      <th>1</th>\n",
       "      <td>2015-04-28</td>\n",
       "      <td>49.16</td>\n",
       "      <td>49.21</td>\n",
       "      <td>47.70</td>\n",
       "      <td>47.78</td>\n",
       "    </tr>\n",
       "    <tr>\n",
       "      <th>2</th>\n",
       "      <td>2015-04-29</td>\n",
       "      <td>49.06</td>\n",
       "      <td>49.31</td>\n",
       "      <td>48.50</td>\n",
       "      <td>48.72</td>\n",
       "    </tr>\n",
       "    <tr>\n",
       "      <th>3</th>\n",
       "      <td>2015-04-30</td>\n",
       "      <td>48.64</td>\n",
       "      <td>49.54</td>\n",
       "      <td>48.60</td>\n",
       "      <td>48.70</td>\n",
       "    </tr>\n",
       "    <tr>\n",
       "      <th>4</th>\n",
       "      <td>2015-05-01</td>\n",
       "      <td>48.66</td>\n",
       "      <td>48.88</td>\n",
       "      <td>48.40</td>\n",
       "      <td>48.58</td>\n",
       "    </tr>\n",
       "  </tbody>\n",
       "</table>\n",
       "</div>"
      ],
      "text/plain": [
       "        Date  close   high    low   open\n",
       "0 2015-04-27  48.03  48.13  47.22  47.23\n",
       "1 2015-04-28  49.16  49.21  47.70  47.78\n",
       "2 2015-04-29  49.06  49.31  48.50  48.72\n",
       "3 2015-04-30  48.64  49.54  48.60  48.70\n",
       "4 2015-05-01  48.66  48.88  48.40  48.58"
      ]
     },
     "execution_count": 5,
     "metadata": {},
     "output_type": "execute_result"
    }
   ],
   "source": [
    "%pylab inline\n",
    "import pandas as pd\n",
    "import urllib2\n",
    "import json\n",
    "\n",
    "def getData(params):\n",
    "    ticker = params['ticker']\n",
    "    # make call to yahoo finance api to get historical stock data\n",
    "    api_url = 'https://chartapi.finance.yahoo.com/instrument/1.0/{}/chartdata;type=quote;range=3m/json'.format(ticker)\n",
    "    result = urllib2.urlopen(api_url).read()\n",
    "    data = json.loads(result.replace('finance_charts_json_callback( ','')[:-1])  # strip away the javascript and load json\n",
    "    company_name = data['meta']['Company-Name']\n",
    "    df = pd.DataFrame.from_records(data['series'])\n",
    "    df['Date'] = pd.to_datetime(df['Date'],format='%Y%m%d')\n",
    "    return df.drop('volume',axis=1)\n",
    "\n",
    "params = {'ticker':'MSFT'}\n",
    "df = getData(params)\n",
    "df.head()"
   ]
  },
  {
   "cell_type": "markdown",
   "metadata": {},
   "source": [
    "Let's turn this into a spyre app. We'll use a dropdown menu input this time and start by displaying the data in a table. In the previous example we overrode the `getHTML` method and had it return a string to generate HTML output. To get a table output we need to override the `getData` method and have it return a pandas dataframe (conveniently, we've already done that!)"
   ]
  },
  {
   "cell_type": "code",
   "execution_count": 3,
   "metadata": {
    "collapsed": false
   },
   "outputs": [],
   "source": [
    "from spyre import server\n",
    "\n",
    "import pandas as pd\n",
    "import urllib2\n",
    "import json\n",
    "\n",
    "class StockExample(server.App):\n",
    "    title = \"Historical Stock Prices\"\n",
    "\n",
    "    inputs = [{     \"type\":'dropdown',\n",
    "                    \"label\": 'Company', \n",
    "                    \"options\" : [ {\"label\": \"Google\", \"value\":\"GOOG\"},\n",
    "                                  {\"label\": \"Yahoo\", \"value\":\"YHOO\"},\n",
    "                                  {\"label\": \"Apple\", \"value\":\"AAPL\"}],\n",
    "                    \"key\": 'ticker', \n",
    "                    \"action_id\": \"table_id\"}]\n",
    "\n",
    "    outputs = [{ \"type\" : \"table\",\n",
    "                    \"id\" : \"table_id\"}]\n",
    "\n",
    "    def getData(self, params):\n",
    "        ticker = params['ticker']\n",
    "        # make call to yahoo finance api to get historical stock data\n",
    "        api_url = 'https://chartapi.finance.yahoo.com/instrument/1.0/{}/chartdata;type=quote;range=3m/json'.format(ticker)\n",
    "        result = urllib2.urlopen(api_url).read()\n",
    "        data = json.loads(result.replace('finance_charts_json_callback( ','')[:-1])  # strip away the javascript and load json\n",
    "        self.company_name = data['meta']['Company-Name']\n",
    "        df = pd.DataFrame.from_records(data['series'])\n",
    "        df['Date'] = pd.to_datetime(df['Date'],format='%Y%m%d')\n",
    "        return df.drop('volume',axis=1)\n",
    "\n",
    "app = StockExample()\n",
    "app.launch()"
   ]
  },
  {
   "cell_type": "markdown",
   "metadata": {},
   "source": [
    "One really convenient feature of pandas is that you can plot directly from a dataframe using the plot method."
   ]
  },
  {
   "cell_type": "code",
   "execution_count": 6,
   "metadata": {
    "collapsed": false
   },
   "outputs": [
    {
     "data": {
      "text/plain": [
       "<matplotlib.axes._subplots.AxesSubplot at 0x10782eb10>"
      ]
     },
     "execution_count": 6,
     "metadata": {},
     "output_type": "execute_result"
    },
    {
     "data": {
      "image/png": "[encoded data removed]",
      "text/plain": [
       "<matplotlib.figure.Figure at 0x1078e49d0>"
      ]
     },
     "metadata": {},
     "output_type": "display_data"
    }
   ],
   "source": [
    "df.plot()"
   ]
  },
  {
   "cell_type": "markdown",
   "metadata": {},
   "source": [
    "Let's take advantage of this convenience and add a plot to our app.  To generate a plot output, we just need to add another dictionary to our list of outputs and override the `getPlot` method (which can return either a matplotlib figure or a matplotlib Axes object)\n",
    "\n",
    "Since our inputs can only have one action_id and there are two outputs that need to be updated, we'll also add an update button to our app."
   ]
  },
  {
   "cell_type": "code",
   "execution_count": 4,
   "metadata": {
    "collapsed": true
   },
   "outputs": [],
   "source": [
    "from spyre import server\n",
    "\n",
    "import pandas as pd\n",
    "import urllib2\n",
    "import json\n",
    "\n",
    "class StockExample(server.App):\n",
    "    title = \"Historical Stock Prices\"\n",
    "\n",
    "    inputs = [{     \"type\":'dropdown',\n",
    "                    \"label\": 'Company', \n",
    "                    \"options\" : [ {\"label\": \"Google\", \"value\":\"GOOG\"},\n",
    "                                  {\"label\": \"Yahoo\", \"value\":\"YHOO\"},\n",
    "                                  {\"label\": \"Apple\", \"value\":\"AAPL\"}],\n",
    "                    \"key\": 'ticker'}]\n",
    "\n",
    "    controls = [{   \"type\" : \"button\",\n",
    "                     \"label\":\"get stock data\",\n",
    "                    \"id\" : \"update_data\"}]\n",
    "\n",
    "    outputs = [{ \"type\" : \"plot\",\n",
    "                    \"id\" : \"plot\",\n",
    "                    \"control_id\" : \"update_data\"},\n",
    "                { \"type\" : \"table\",\n",
    "                    \"id\" : \"table_id\",\n",
    "                    \"control_id\" : \"update_data\"}]\n",
    "\n",
    "    def getData(self, params):\n",
    "        ticker = params['ticker']\n",
    "        # make call to yahoo finance api to get historical stock data\n",
    "        api_url = 'https://chartapi.finance.yahoo.com/instrument/1.0/{}/chartdata;type=quote;range=3m/json'.format(ticker)\n",
    "        result = urllib2.urlopen(api_url).read()\n",
    "        data = json.loads(result.replace('finance_charts_json_callback( ','')[:-1])  # strip away the javascript and load json\n",
    "        self.company_name = data['meta']['Company-Name']\n",
    "        df = pd.DataFrame.from_records(data['series'])\n",
    "        df['Date'] = pd.to_datetime(df['Date'],format='%Y%m%d')\n",
    "        return df.drop(['volume'],axis=1)\n",
    "\n",
    "app = StockExample()\n",
    "app.launch()"
   ]
  },
  {
   "cell_type": "markdown",
   "metadata": {},
   "source": [
    "Notice that we didn't have to add a new method for our plot output. getData is pulling double duty here serving the data for our table and our plot. If you wanted to alter the data or the plot object, you could do that by overriding the `getPlot` method. Under the hood, if you don't specify a `getPlot` method for your plot output, server.App's built-in `getPlot` method will look for a `getData` method, and just call plot() on it's output."
   ]
  },
  {
   "cell_type": "code",
   "execution_count": 3,
   "metadata": {
    "collapsed": false
   },
   "outputs": [],
   "source": [
    "from spyre import server\n",
    "\n",
    "import pandas as pd\n",
    "import urllib2\n",
    "import json\n",
    "\n",
    "class StockExample(server.App):\n",
    "    title = \"Historical Stock Prices\"\n",
    "\n",
    "    inputs = [{     \"type\":'dropdown',\n",
    "                    \"label\": 'Company', \n",
    "                    \"options\" : [ {\"label\": \"Google\", \"value\":\"GOOG\"},\n",
    "                                  {\"label\": \"Yahoo\", \"value\":\"YHOO\"},\n",
    "                                  {\"label\": \"Apple\", \"value\":\"AAPL\"}],\n",
    "                    \"key\": 'ticker'}]\n",
    "\n",
    "    controls = [{   \"type\" : \"button\",\n",
    "                     \"label\":\"get stock data\",\n",
    "                    \"id\" : \"update_data\"}]\n",
    "\n",
    "    outputs = [{ \"type\" : \"plot\",\n",
    "                    \"id\" : \"plot\",\n",
    "                    \"control_id\" : \"update_data\"},\n",
    "                { \"type\" : \"table\",\n",
    "                    \"id\" : \"table_id\",\n",
    "                    \"control_id\" : \"update_data\"}]\n",
    "\n",
    "    def getData(self, params):\n",
    "        ticker = params['ticker']\n",
    "        # make call to yahoo finance api to get historical stock data\n",
    "        api_url = 'https://chartapi.finance.yahoo.com/instrument/1.0/{}/chartdata;type=quote;range=3m/json'.format(ticker)\n",
    "        result = urllib2.urlopen(api_url).read()\n",
    "        data = json.loads(result.replace('finance_charts_json_callback( ','')[:-1])  # strip away the javascript and load json\n",
    "        self.company_name = data['meta']['Company-Name']\n",
    "        df = pd.DataFrame.from_records(data['series'])\n",
    "        df['Date'] = pd.to_datetime(df['Date'],format='%Y%m%d')\n",
    "        return df.drop(['volume'],axis=1)\n",
    "\n",
    "    def getPlot(self, params):\n",
    "        df = self.getData(params)\n",
    "        plt_obj = df.set_index('Date').plot()\n",
    "        plt_obj.set_ylabel(\"Price\")\n",
    "        plt_obj.set_title(self.company_name)\n",
    "        return plt_obj\n",
    "\n",
    "app = StockExample()\n",
    "app.launch()"
   ]
  },
  {
   "cell_type": "markdown",
   "metadata": {},
   "source": [
    "Finally we'll put each of the outputs in separate tabs and add an action_id to the dropdown input that references the \"update_data\" control. Now, a change to the input state triggers the button to be \"clicked\". This makes the existence of a \"button\" supurfluous, so we'll change the control type to \"hidden\""
   ]
  },
  {
   "cell_type": "code",
   "execution_count": 2,
   "metadata": {
    "collapsed": false
   },
   "outputs": [],
   "source": [
    "from spyre import server\n",
    "\n",
    "import pandas as pd\n",
    "import urllib2\n",
    "import json\n",
    "\n",
    "class StockExample(server.App):\n",
    "    title = \"Historical Stock Prices\"\n",
    "\n",
    "    inputs = [{     \"type\":'dropdown',\n",
    "                    \"label\": 'Company', \n",
    "                    \"options\" : [ {\"label\": \"Google\", \"value\":\"GOOG\"},\n",
    "                                  {\"label\": \"Yahoo\", \"value\":\"YHOO\"},\n",
    "                                  {\"label\": \"Apple\", \"value\":\"AAPL\"}],\n",
    "                    \"key\": 'ticker', \n",
    "                    \"action_id\": \"update_data\"}]\n",
    "\n",
    "    controls = [{   \"type\" : \"hidden\",\n",
    "                    \"id\" : \"update_data\"}]\n",
    "\n",
    "    tabs = [\"Plot\", \"Table\"]\n",
    "\n",
    "    outputs = [{ \"type\" : \"plot\",\n",
    "                    \"id\" : \"plot\",\n",
    "                    \"control_id\" : \"update_data\",\n",
    "                    \"tab\" : \"Plot\"},\n",
    "                { \"type\" : \"table\",\n",
    "                    \"id\" : \"table_id\",\n",
    "                    \"control_id\" : \"update_data\",\n",
    "                    \"tab\" : \"Table\" }]\n",
    "\n",
    "    def getData(self, params):\n",
    "        ticker = params['ticker']\n",
    "        # make call to yahoo finance api to get historical stock data\n",
    "        api_url = 'https://chartapi.finance.yahoo.com/instrument/1.0/{}/chartdata;type=quote;range=3m/json'.format(ticker)\n",
    "        result = urllib2.urlopen(api_url).read()\n",
    "        data = json.loads(result.replace('finance_charts_json_callback( ','')[:-1])  # strip away the javascript and load json\n",
    "        self.company_name = data['meta']['Company-Name']\n",
    "        df = pd.DataFrame.from_records(data['series'])\n",
    "        df['Date'] = pd.to_datetime(df['Date'],format='%Y%m%d')\n",
    "        return df.drop('volume',axis=1)\n",
    "\n",
    "    def getPlot(self, params):\n",
    "        df = self.getData(params)\n",
    "        plt_obj = df.set_index('Date').plot()\n",
    "        plt_obj.set_ylabel(\"Price\")\n",
    "        plt_obj.set_title(self.company_name)\n",
    "        fig = plt_obj.get_figure()\n",
    "        return fig\n",
    "\n",
    "app = StockExample()\n",
    "app.launch()"
   ]
  },
  {
   "cell_type": "markdown",
   "metadata": {},
   "source": [
    "<img src='two_outputs.png'>"
   ]
  },
  {
   "cell_type": "markdown",
   "metadata": {},
   "source": [
    "## A few more things you can try\n",
    "\n",
    " - there's a \"download\" output type that uses either the getData method or a getDownload method\n",
    " - tables can be sortable. Just add a \"sortable\" key to the table output dictionary and set it's value to true\n",
    " - there are a couple of great Python libraries that produce JavaScript plots (Bokeh and Vincent). You can throw them into a getHTML method to add JavaScript plots to your spyre app (hoping to add a \"bokeh\" output type soon to make this integration a little easier).\n",
    " - you can link input values\n",
    " \n",
    "\n",
    "## Deploying\n",
    " - Heroku ([blog post on setting up](http://adamhajari.github.io/2015/04/21/deploying-a-spyre-app-on-heroku.html), free!)\n",
    " - [pythonanywhere](https://www.pythonanywhere.com/) (free!)\n",
    " - Digital Ocean (\\$5/month)\n",
    " - AWS (~\\$10/month maybe?)"
   ]
  },
  {
   "cell_type": "markdown",
   "metadata": {},
   "source": [
    "## More Examples On GitHub"
   ]
  },
  {
   "cell_type": "markdown",
   "metadata": {},
   "source": [
    "\n",
    "## A couple of tricks\n",
    " - you can either name your output methods using the getType convention *or* you can have the name match the output id. This is useful if you've got multiple outputs of the same type.\n",
    " - if multiple outputs use the same data and it takes a long time to generate that data, there's a trick for caching data so you only have to load it once. See the stocks_example app in the examples directory of the git repo to see how (*Warning*: it's kind of hacky)"
   ]
  }
 ],
 "metadata": {
  "kernelspec": {
   "display_name": "Python 2",
   "language": "python",
   "name": "python2"
  },
  "language_info": {
   "codemirror_mode": {
    "name": "ipython",
    "version": 2
   },
   "file_extension": ".py",
   "mimetype": "text/x-python",
   "name": "python",
   "nbconvert_exporter": "python",
   "pygments_lexer": "ipython2",
   "version": "2.7.10"
  }
 },
 "nbformat": 4,
 "nbformat_minor": 0
}
